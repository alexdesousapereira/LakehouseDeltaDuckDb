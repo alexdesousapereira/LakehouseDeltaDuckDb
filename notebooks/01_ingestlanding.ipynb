{
 "cells": [
  {
   "cell_type": "code",
   "execution_count": 12,
   "metadata": {},
   "outputs": [],
   "source": [
    "from azure.storage.filedatalake import DataLakeServiceClient\n",
    "import os\n",
    "from dotenv import load_dotenv"
   ]
  },
  {
   "cell_type": "code",
   "execution_count": 13,
   "metadata": {},
   "outputs": [],
   "source": [
    "# Carrega as variáveis do arquivo .env\n",
    "load_dotenv()\n",
    "\n",
    "# Carrega as variáveis do arquivo .env\n",
    "load_dotenv()\n",
    "\n",
    "# Acessa as credenciais\n",
    "azure_storage_account_name = os.getenv('AZURE_STORAGE_ACCOUNT_NAME')\n",
    "azure_storage_access_key = os.getenv('AZURE_STORAGE_ACCESS_KEY')\n",
    "azure_storage_client_id = os.getenv('AZURE_STORAGE_CLIENT_ID')\n",
    "azure_storage_client_secret = os.getenv('AZURE_STORAGE_CLIENT_SECRET')\n",
    "azure_storage_tenant_id = os.getenv('AZURE_STORAGE_TENANT_ID')"
   ]
  },
  {
   "cell_type": "code",
   "execution_count": 14,
   "metadata": {},
   "outputs": [],
   "source": [
    "service_client = DataLakeServiceClient(account_url=\"https://lakehousecursoap.dfs.core.windows.net/\", credential=f\"{azure_storage_access_key}\")"
   ]
  },
  {
   "cell_type": "code",
   "execution_count": 15,
   "metadata": {},
   "outputs": [],
   "source": [
    "container = service_client.get_file_system_client(file_system=\"landing\")"
   ]
  },
  {
   "cell_type": "code",
   "execution_count": 11,
   "metadata": {},
   "outputs": [],
   "source": [
    "diretorio_client = container.get_directory_client(\"bike_store\")"
   ]
  },
  {
   "cell_type": "markdown",
   "metadata": {},
   "source": [
    "### Carga Completa arquivos"
   ]
  },
  {
   "cell_type": "code",
   "execution_count": 1,
   "metadata": {},
   "outputs": [
    {
     "name": "stdout",
     "output_type": "stream",
     "text": [
      "['dados\\\\brands.csv', 'dados\\\\categories.csv', 'dados\\\\customers.csv', 'dados\\\\orders.csv', 'dados\\\\order_items.csv', 'dados\\\\products.csv', 'dados\\\\staffs.csv', 'dados\\\\stocks.csv', 'dados\\\\stores.csv']\n"
     ]
    }
   ],
   "source": [
    "import glob\n",
    "\n",
    "arquivos_bs = glob.glob('dados/*.csv')\n",
    "print(arquivos_bs)\n",
    "\n",
    "for itens in arquivos_bs:\n",
    "    lista_item = itens.split('\\\\')\n",
    "    ultimo_item = lista_item[-1]\n",
    "    file_client = diretorio_client.create_file(f'{ultimo_item}')\n",
    "    arquivo_local = open(f'{itens}','r')\n",
    "    conteudoArquivo = arquivo_local.read()\n",
    "\n",
    "    file_client.append_data(data=conteudoArquivo, offset=0, length=len(conteudoArquivo))\n",
    "\n",
    "    file_client.flush_data(len(conteudoArquivo))"
   ]
  },
  {
   "cell_type": "code",
   "execution_count": null,
   "metadata": {},
   "outputs": [],
   "source": []
  }
 ],
 "metadata": {
  "kernelspec": {
   "display_name": "cursoazure",
   "language": "python",
   "name": "python3"
  },
  "language_info": {
   "codemirror_mode": {
    "name": "ipython",
    "version": 3
   },
   "file_extension": ".py",
   "mimetype": "text/x-python",
   "name": "python",
   "nbconvert_exporter": "python",
   "pygments_lexer": "ipython3",
   "version": "3.11.7"
  }
 },
 "nbformat": 4,
 "nbformat_minor": 2
}
