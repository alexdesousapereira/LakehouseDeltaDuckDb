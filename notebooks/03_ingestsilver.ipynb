{
 "cells": [
  {
   "cell_type": "code",
   "execution_count": null,
   "metadata": {},
   "outputs": [],
   "source": [
    "from deltalake.writer import write_deltalake\n",
    "from deltalake import DeltaTable\n",
    "import duckdb\n",
    "import pandas\n",
    "import os\n",
    "from dotenv import load_dotenv"
   ]
  },
  {
   "cell_type": "code",
   "execution_count": 2,
   "metadata": {},
   "outputs": [],
   "source": [
    "con = duckdb.connect()"
   ]
  },
  {
   "cell_type": "code",
   "execution_count": null,
   "metadata": {},
   "outputs": [],
   "source": [
    "# Carrega as variáveis do arquivo .env\n",
    "load_dotenv()\n",
    "\n",
    "# Carrega as variáveis do arquivo .env\n",
    "load_dotenv()\n",
    "\n",
    "# Acessa as credenciais\n",
    "azure_storage_account_name = os.getenv('AZURE_STORAGE_ACCOUNT_NAME')\n",
    "azure_storage_access_key = os.getenv('AZURE_STORAGE_ACCESS_KEY')\n",
    "azure_storage_client_id = os.getenv('AZURE_STORAGE_CLIENT_ID')\n",
    "azure_storage_client_secret = os.getenv('AZURE_STORAGE_CLIENT_SECRET')\n",
    "azure_storage_tenant_id = os.getenv('AZURE_STORAGE_TENANT_ID')"
   ]
  },
  {
   "cell_type": "code",
   "execution_count": null,
   "metadata": {},
   "outputs": [],
   "source": [
    "storage_options = {\n",
    "    'AZURE_STORAGE_ACCOUNT_NAME': azure_storage_account_name,\n",
    "    'AZURE_STORAGE_ACCESS_KEY': azure_storage_access_key,\n",
    "    'AZURE_STORAGE_CLIENT_ID': azure_storage_client_id,\n",
    "    'AZURE_STORAGE_CLIENT_SECRET': azure_storage_client_secret, \n",
    "    'AZURE_STORAGE_TENANT_ID': azure_storage_tenant_id\n",
    "}\n"
   ]
  },
  {
   "cell_type": "markdown",
   "metadata": {},
   "source": [
    "### Carga Completa arquivos"
   ]
  },
  {
   "cell_type": "markdown",
   "metadata": {},
   "source": [
    "### Funções"
   ]
  },
  {
   "cell_type": "code",
   "execution_count": 4,
   "metadata": {},
   "outputs": [],
   "source": [
    "def ler_delta_bronze(table_name):\n",
    "    uri= f'az://bronze/vendas/{table_name}'\n",
    "    \n",
    "    dt = DeltaTable(uri, storage_options=storage_options)\n",
    "    return dt.to_pandas()"
   ]
  },
  {
   "cell_type": "code",
   "execution_count": 5,
   "metadata": {},
   "outputs": [],
   "source": [
    "def ler_delta_silver(table_name):\n",
    "    uri= f'az://silver/vendas/{table_name}'\n",
    "    \n",
    "    dt = DeltaTable(uri, storage_options=storage_options)\n",
    "    return dt.to_pandas()"
   ]
  },
  {
   "cell_type": "code",
   "execution_count": 6,
   "metadata": {},
   "outputs": [],
   "source": [
    "def escreve_delta_silver(df,table_name, modoEscrita):\n",
    "    uri= f'az://silver/vendas/{table_name}'\n",
    "    write_deltalake( \n",
    "        uri,\n",
    "        df,\n",
    "        mode=modoEscrita,\n",
    "        storage_options=storage_options\n",
    "    )"
   ]
  },
  {
   "cell_type": "markdown",
   "metadata": {},
   "source": [
    "### Lendo da Bronze"
   ]
  },
  {
   "cell_type": "code",
   "execution_count": 7,
   "metadata": {},
   "outputs": [],
   "source": [
    "brands = ler_delta_bronze('brands')\n",
    "categories = ler_delta_bronze('categories')\n",
    "customers = ler_delta_bronze('customers')\n",
    "order_items = ler_delta_bronze('order_items')\n",
    "orders = ler_delta_bronze('orders')\n",
    "products = ler_delta_bronze('products')\n",
    "staffs = ler_delta_bronze('staffs')\n",
    "stocks = ler_delta_bronze('stocks')\n",
    "stores = ler_delta_bronze('stores')"
   ]
  },
  {
   "cell_type": "markdown",
   "metadata": {},
   "source": [
    "### Carregando dados para Silver"
   ]
  },
  {
   "cell_type": "markdown",
   "metadata": {},
   "source": [
    "#### Order Sales"
   ]
  },
  {
   "cell_type": "code",
   "execution_count": 12,
   "metadata": {},
   "outputs": [],
   "source": [
    "dtl_orders_sales = ler_delta_silver('order_sales')"
   ]
  },
  {
   "cell_type": "code",
   "execution_count": 15,
   "metadata": {},
   "outputs": [
    {
     "data": {
      "text/html": [
       "<div>\n",
       "<style scoped>\n",
       "    .dataframe tbody tr th:only-of-type {\n",
       "        vertical-align: middle;\n",
       "    }\n",
       "\n",
       "    .dataframe tbody tr th {\n",
       "        vertical-align: top;\n",
       "    }\n",
       "\n",
       "    .dataframe thead th {\n",
       "        text-align: right;\n",
       "    }\n",
       "</style>\n",
       "<table border=\"1\" class=\"dataframe\">\n",
       "  <thead>\n",
       "    <tr style=\"text-align: right;\">\n",
       "      <th></th>\n",
       "      <th>product_id</th>\n",
       "      <th>product_name</th>\n",
       "      <th>brand_name</th>\n",
       "      <th>category_name</th>\n",
       "      <th>customer_id</th>\n",
       "      <th>customer_name</th>\n",
       "      <th>staff_id</th>\n",
       "      <th>staff_name</th>\n",
       "      <th>store_id</th>\n",
       "      <th>store_name</th>\n",
       "      <th>order_id</th>\n",
       "      <th>item_id</th>\n",
       "      <th>order_date</th>\n",
       "      <th>quantity</th>\n",
       "      <th>list_price</th>\n",
       "      <th>discount</th>\n",
       "    </tr>\n",
       "  </thead>\n",
       "  <tbody>\n",
       "  </tbody>\n",
       "</table>\n",
       "</div>"
      ],
      "text/plain": [
       "Empty DataFrame\n",
       "Columns: [product_id, product_name, brand_name, category_name, customer_id, customer_name, staff_id, staff_name, store_id, store_name, order_id, item_id, order_date, quantity, list_price, discount]\n",
       "Index: []"
      ]
     },
     "execution_count": 15,
     "metadata": {},
     "output_type": "execute_result"
    }
   ],
   "source": [
    "# TODO fazer inserção tabela inteira quando não tiver dtl_orders_sales\n",
    "order_sales = con.sql(\"\"\"\n",
    "    WITH order_sales_bronze AS (\n",
    "    SELECT\n",
    "        P.product_id,\n",
    "        P.product_name,\n",
    "        B.brand_name,\n",
    "        CT.category_name,\n",
    "        C.customer_id,\n",
    "        C.first_name || C.last_name AS customer_name,\n",
    "        S.staff_id,\n",
    "        S.first_name || S.last_name AS staff_name,\n",
    "        ST.store_id,\n",
    "        ST.store_name,\n",
    "        OI.order_id,\n",
    "        OI.item_id,\n",
    "        O.order_date,\n",
    "        OI.quantity,\n",
    "        OI.list_price,\n",
    "        OI.discount\n",
    "    FROM order_items OI\n",
    "    LEFT JOIN orders O ON OI.order_id = O.order_id\n",
    "    LEFT JOIN products P ON P.product_id = OI.product_id\n",
    "    LEFT JOIN brands B ON P.brand_id = B.brand_id\n",
    "    LEFT JOIN categories CT ON P.category_id = CT.category_id\n",
    "    LEFT JOIN customers C ON O.customer_id = C.customer_id\n",
    "    LEFT JOIN staffs S ON O.staff_id = S.staff_id\n",
    "    LEFT JOIN stores ST ON ST.store_id = O.store_id\n",
    "    ),\n",
    "    dt_order_sales AS (\n",
    "    SELECT\n",
    "        MAX(order_date) AS order_date\n",
    "    FROM dtl_orders_sales     \n",
    "    )\n",
    "    SELECT\n",
    "        *\n",
    "    FROM order_sales_bronze\n",
    "    WHERE order_date > (\n",
    "        SELECT \n",
    "            order_date\n",
    "        FROM dt_order_sales\n",
    "                      )\n",
    "    \"\"\").to_df()\n",
    "if len(order_sales) > 0:\n",
    "    escreve_delta_silver(order_sales,'order_sales','append')"
   ]
  },
  {
   "cell_type": "markdown",
   "metadata": {},
   "source": [
    "#### Stocks"
   ]
  },
  {
   "cell_type": "code",
   "execution_count": 9,
   "metadata": {},
   "outputs": [],
   "source": [
    "stocks_snapshot  = con.sql(\"\"\"\n",
    "    SELECT\n",
    "        *,\n",
    "        current_date as dt_stock\n",
    "    FROM stocks\n",
    "    \"\"\").to_df()\n",
    "escreve_delta_silver(stocks_snapshot,'stocks_snapshot','append')"
   ]
  },
  {
   "cell_type": "code",
   "execution_count": 16,
   "metadata": {},
   "outputs": [
    {
     "data": {
      "text/html": [
       "<div>\n",
       "<style scoped>\n",
       "    .dataframe tbody tr th:only-of-type {\n",
       "        vertical-align: middle;\n",
       "    }\n",
       "\n",
       "    .dataframe tbody tr th {\n",
       "        vertical-align: top;\n",
       "    }\n",
       "\n",
       "    .dataframe thead th {\n",
       "        text-align: right;\n",
       "    }\n",
       "</style>\n",
       "<table border=\"1\" class=\"dataframe\">\n",
       "  <thead>\n",
       "    <tr style=\"text-align: right;\">\n",
       "      <th></th>\n",
       "      <th>store_id</th>\n",
       "      <th>product_id</th>\n",
       "      <th>quantity</th>\n",
       "      <th>dt_stocks</th>\n",
       "    </tr>\n",
       "  </thead>\n",
       "  <tbody>\n",
       "    <tr>\n",
       "      <th>0</th>\n",
       "      <td>1</td>\n",
       "      <td>1</td>\n",
       "      <td>27</td>\n",
       "      <td>2024-09-09</td>\n",
       "    </tr>\n",
       "    <tr>\n",
       "      <th>1</th>\n",
       "      <td>1</td>\n",
       "      <td>2</td>\n",
       "      <td>5</td>\n",
       "      <td>2024-09-09</td>\n",
       "    </tr>\n",
       "    <tr>\n",
       "      <th>2</th>\n",
       "      <td>1</td>\n",
       "      <td>3</td>\n",
       "      <td>6</td>\n",
       "      <td>2024-09-09</td>\n",
       "    </tr>\n",
       "    <tr>\n",
       "      <th>3</th>\n",
       "      <td>1</td>\n",
       "      <td>4</td>\n",
       "      <td>23</td>\n",
       "      <td>2024-09-09</td>\n",
       "    </tr>\n",
       "    <tr>\n",
       "      <th>4</th>\n",
       "      <td>1</td>\n",
       "      <td>5</td>\n",
       "      <td>22</td>\n",
       "      <td>2024-09-09</td>\n",
       "    </tr>\n",
       "    <tr>\n",
       "      <th>...</th>\n",
       "      <td>...</td>\n",
       "      <td>...</td>\n",
       "      <td>...</td>\n",
       "      <td>...</td>\n",
       "    </tr>\n",
       "    <tr>\n",
       "      <th>934</th>\n",
       "      <td>3</td>\n",
       "      <td>309</td>\n",
       "      <td>30</td>\n",
       "      <td>2024-09-09</td>\n",
       "    </tr>\n",
       "    <tr>\n",
       "      <th>935</th>\n",
       "      <td>3</td>\n",
       "      <td>310</td>\n",
       "      <td>8</td>\n",
       "      <td>2024-09-09</td>\n",
       "    </tr>\n",
       "    <tr>\n",
       "      <th>936</th>\n",
       "      <td>3</td>\n",
       "      <td>311</td>\n",
       "      <td>23</td>\n",
       "      <td>2024-09-09</td>\n",
       "    </tr>\n",
       "    <tr>\n",
       "      <th>937</th>\n",
       "      <td>3</td>\n",
       "      <td>312</td>\n",
       "      <td>18</td>\n",
       "      <td>2024-09-09</td>\n",
       "    </tr>\n",
       "    <tr>\n",
       "      <th>938</th>\n",
       "      <td>3</td>\n",
       "      <td>313</td>\n",
       "      <td>0</td>\n",
       "      <td>2024-09-09</td>\n",
       "    </tr>\n",
       "  </tbody>\n",
       "</table>\n",
       "<p>939 rows × 4 columns</p>\n",
       "</div>"
      ],
      "text/plain": [
       "     store_id  product_id  quantity  dt_stocks\n",
       "0           1           1        27 2024-09-09\n",
       "1           1           2         5 2024-09-09\n",
       "2           1           3         6 2024-09-09\n",
       "3           1           4        23 2024-09-09\n",
       "4           1           5        22 2024-09-09\n",
       "..        ...         ...       ...        ...\n",
       "934         3         309        30 2024-09-09\n",
       "935         3         310         8 2024-09-09\n",
       "936         3         311        23 2024-09-09\n",
       "937         3         312        18 2024-09-09\n",
       "938         3         313         0 2024-09-09\n",
       "\n",
       "[939 rows x 4 columns]"
      ]
     },
     "execution_count": 16,
     "metadata": {},
     "output_type": "execute_result"
    }
   ],
   "source": [
    "stocks_snapcho"
   ]
  },
  {
   "cell_type": "markdown",
   "metadata": {},
   "source": [
    "## Fecha conexões"
   ]
  },
  {
   "cell_type": "code",
   "execution_count": 55,
   "metadata": {},
   "outputs": [],
   "source": [
    "con.close()"
   ]
  }
 ],
 "metadata": {
  "kernelspec": {
   "display_name": "cursoazure",
   "language": "python",
   "name": "python3"
  },
  "language_info": {
   "codemirror_mode": {
    "name": "ipython",
    "version": 3
   },
   "file_extension": ".py",
   "mimetype": "text/x-python",
   "name": "python",
   "nbconvert_exporter": "python",
   "pygments_lexer": "ipython3",
   "version": "3.11.7"
  }
 },
 "nbformat": 4,
 "nbformat_minor": 2
}
