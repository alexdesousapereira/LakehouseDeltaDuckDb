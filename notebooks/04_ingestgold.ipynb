{
 "cells": [
  {
   "cell_type": "code",
   "execution_count": 2,
   "metadata": {},
   "outputs": [],
   "source": [
    "from deltalake.writer import write_deltalake\n",
    "from deltalake import DeltaTable\n",
    "import duckdb\n",
    "import pandas\n",
    "import os\n",
    "from dotenv import load_dotenv"
   ]
  },
  {
   "cell_type": "code",
   "execution_count": 3,
   "metadata": {},
   "outputs": [],
   "source": [
    "# Carrega as variáveis do arquivo .env\n",
    "load_dotenv()\n",
    "\n",
    "# Carrega as variáveis do arquivo .env\n",
    "load_dotenv()\n",
    "\n",
    "# Acessa as credenciais\n",
    "azure_storage_account_name = os.getenv('AZURE_STORAGE_ACCOUNT_NAME')\n",
    "azure_storage_access_key = os.getenv('AZURE_STORAGE_ACCESS_KEY')\n",
    "azure_storage_client_id = os.getenv('AZURE_STORAGE_CLIENT_ID')\n",
    "azure_storage_client_secret = os.getenv('AZURE_STORAGE_CLIENT_SECRET')\n",
    "azure_storage_tenant_id = os.getenv('AZURE_STORAGE_TENANT_ID')"
   ]
  },
  {
   "cell_type": "code",
   "execution_count": 4,
   "metadata": {},
   "outputs": [],
   "source": [
    "storage_options = {\n",
    "    'AZURE_STORAGE_ACCOUNT_NAME': azure_storage_account_name,\n",
    "    'AZURE_STORAGE_ACCESS_KEY': azure_storage_access_key,\n",
    "    'AZURE_STORAGE_CLIENT_ID': azure_storage_client_id,\n",
    "    'AZURE_STORAGE_CLIENT_SECRET': azure_storage_client_secret, \n",
    "    'AZURE_STORAGE_TENANT_ID': azure_storage_tenant_id\n",
    "}\n"
   ]
  },
  {
   "cell_type": "code",
   "execution_count": 5,
   "metadata": {},
   "outputs": [],
   "source": [
    "con = duckdb.connect()"
   ]
  },
  {
   "cell_type": "markdown",
   "metadata": {},
   "source": [
    "### Carga Completa arquivos"
   ]
  },
  {
   "cell_type": "markdown",
   "metadata": {},
   "source": [
    "### Funções"
   ]
  },
  {
   "cell_type": "code",
   "execution_count": 6,
   "metadata": {},
   "outputs": [],
   "source": [
    "def ler_delta_gold(table_name):\n",
    "    uri= f'az://gold/vendas/{table_name}'\n",
    "    \n",
    "    dt = DeltaTable(uri, storage_options=storage_options)\n",
    "    return dt.to_pandas()"
   ]
  },
  {
   "cell_type": "code",
   "execution_count": 7,
   "metadata": {},
   "outputs": [],
   "source": [
    "def ler_delta_silver(table_name):\n",
    "    uri= f'az://silver/vendas/{table_name}'\n",
    "    \n",
    "    dt = DeltaTable(uri, storage_options=storage_options)\n",
    "    return dt.to_pandas()"
   ]
  },
  {
   "cell_type": "code",
   "execution_count": 8,
   "metadata": {},
   "outputs": [],
   "source": [
    "def escreve_delta_gold(df,table_name, modoEscrita):\n",
    "    uri= f'az://gold/vendas/{table_name}'\n",
    "    write_deltalake( \n",
    "        uri,\n",
    "        df,\n",
    "        mode=modoEscrita,\n",
    "        storage_options=storage_options\n",
    "    )"
   ]
  },
  {
   "cell_type": "markdown",
   "metadata": {},
   "source": [
    "### Order Sales"
   ]
  },
  {
   "cell_type": "code",
   "execution_count": 19,
   "metadata": {},
   "outputs": [],
   "source": [
    "orders_sales = ler_delta_silver('order_sales')"
   ]
  },
  {
   "cell_type": "markdown",
   "metadata": {},
   "source": [
    "### Dim Product"
   ]
  },
  {
   "cell_type": "code",
   "execution_count": 46,
   "metadata": {},
   "outputs": [],
   "source": [
    "dtl_gold_products = ler_delta_gold('dim_products')"
   ]
  },
  {
   "cell_type": "code",
   "execution_count": 52,
   "metadata": {},
   "outputs": [],
   "source": [
    "dim_products = con.sql(\"\"\"\n",
    "WITH products AS (\n",
    "    SELECT DISTINCT \n",
    "        product_id,\n",
    "        product_name,\n",
    "        brand_name,\n",
    "        category_name\n",
    "    FROM orders_sales\n",
    "),\n",
    "sk_products AS (\n",
    "    SELECT \n",
    "        row_number() OVER (ORDER BY product_id) AS product_sk,\n",
    "        product_id,\n",
    "        product_name,\n",
    "        brand_name,\n",
    "        category_name,\n",
    "        current_date as data_criacao_registro\n",
    "    FROM products\n",
    "),\n",
    "dt_gold_products AS (\n",
    "    SELECT DISTINCT \n",
    "        product_id\n",
    "    FROM dtl_gold_products\n",
    ")\n",
    "SELECT \n",
    "    *\n",
    "FROM sk_products\n",
    "WHERE product_id NOT IN (SELECT product_id FROM dt_gold_products)\n",
    "\"\"\").to_df()\n",
    "if len(dim_products) > 0 :\n",
    "    escreve_delta_gold(dim_products, 'dim_products', 'append')\n"
   ]
  },
  {
   "cell_type": "markdown",
   "metadata": {},
   "source": [
    "### Dim Customers"
   ]
  },
  {
   "cell_type": "code",
   "execution_count": null,
   "metadata": {},
   "outputs": [],
   "source": [
    "dtl_gold_customers = ler_delta_gold('dim_customers')"
   ]
  },
  {
   "cell_type": "code",
   "execution_count": 21,
   "metadata": {},
   "outputs": [],
   "source": [
    "dim_customers = con.sql(\"\"\"\n",
    "WITH customers as\n",
    "(\n",
    "    SELECT DISTINCT \n",
    "        customer_id,\n",
    "        customer_name\n",
    "    FROM orders_sales\n",
    "),\n",
    "sk_customers as\n",
    "(\n",
    "    SELECT\n",
    "        row_number() OVER (ORDER BY customer_id) as customer_sk,\n",
    "        *,\n",
    "        current_date as data_criacao_registro\n",
    "    FROM customers\n",
    "),\n",
    "dt_gold_customers AS (\n",
    "    SELECT DISTINCT \n",
    "        customer_id\n",
    "    FROM dtl_gold_customers\n",
    ")\n",
    "SELECT \n",
    "    * \n",
    "FROM sk_customers\n",
    "WHERE customer_id NOT IN (SELECT customer_id FROM dt_gold_customers)\n",
    "\"\"\").to_df()\n",
    "if len(dim_customers) > 0 :\n",
    "    escreve_delta_gold(dim_customers, 'dim_customers', 'append')"
   ]
  },
  {
   "cell_type": "markdown",
   "metadata": {},
   "source": [
    "### Dim Stafs"
   ]
  },
  {
   "cell_type": "code",
   "execution_count": 53,
   "metadata": {},
   "outputs": [],
   "source": [
    "dtl_gold_staffs = ler_delta_gold('dim_staffs')"
   ]
  },
  {
   "cell_type": "code",
   "execution_count": 54,
   "metadata": {},
   "outputs": [],
   "source": [
    "dim_staffs = con.sql(\"\"\"\n",
    "WITH staffs as\n",
    "(\n",
    "    SELECT DISTINCT \n",
    "        staff_id,\n",
    "        staff_name\n",
    "    FROM orders_sales\n",
    "),\n",
    "sk_staffs as\n",
    "(\n",
    "    SELECT\n",
    "        row_number() OVER (ORDER BY staff_id) as staff_sk,\n",
    "        *,\n",
    "        current_date as data_criacao_registro\n",
    "    FROM staffs\n",
    "),\n",
    "dt_gold_staffs AS (\n",
    "    SELECT DISTINCT\n",
    "        staff_id\n",
    "    fROM dtl_gold_staffs\n",
    ")\n",
    "SELECT \n",
    "    *\n",
    "FROM  sk_staffs\n",
    "WHERE staff_id NOT IN (SELECT staff_id FROM dt_gold_staffs)\n",
    "\"\"\").to_df()\n",
    "if len(dim_staffs) > 0 :\n",
    "    escreve_delta_gold(dim_staffs, 'dim_staffs', 'append')\n"
   ]
  },
  {
   "cell_type": "markdown",
   "metadata": {},
   "source": [
    "### Dim Stores"
   ]
  },
  {
   "cell_type": "code",
   "execution_count": 55,
   "metadata": {},
   "outputs": [],
   "source": [
    "dtl_gold_stores = ler_delta_gold('dim_stores')"
   ]
  },
  {
   "cell_type": "code",
   "execution_count": 56,
   "metadata": {},
   "outputs": [],
   "source": [
    "dim_stores = con.sql(\"\"\"\n",
    "WITH stores as\n",
    "(\n",
    "    SELECT DISTINCT \n",
    "        store_id,\n",
    "        store_name\n",
    "    FROM orders_sales\n",
    "),\n",
    "sk_stores as\n",
    "(\n",
    "    SELECT\n",
    "        row_number() OVER (ORDER BY store_id) as store_sk,\n",
    "        *,\n",
    "        current_date as data_criacao_registro\n",
    "    FROM stores\n",
    "),\n",
    "dt_gold_stores AS (\n",
    "    SELECT DISTINCT\n",
    "        store_id\n",
    "    FROM dtl_gold_stores\n",
    ")\n",
    "SELECT \n",
    "    * \n",
    "FROM sk_stores\n",
    "WHERE\n",
    "    store_id NOT IN (SELECT store_id FROM dt_gold_stores)\n",
    "\"\"\").to_df()\n",
    "if len(dim_stores) > 0 :\n",
    "    escreve_delta_gold(dim_stores, 'dim_stores', 'append')"
   ]
  },
  {
   "cell_type": "markdown",
   "metadata": {},
   "source": [
    "### Dim Calendario"
   ]
  },
  {
   "cell_type": "code",
   "execution_count": 30,
   "metadata": {},
   "outputs": [],
   "source": [
    "dim_date = con.sql(\"\"\"\n",
    "WITH tempo AS (\n",
    "    SELECT \n",
    "        CAST(STRFTIME(generate_series, '%Y%m%d') AS INT) AS date_id,\n",
    "        generate_series AS date,\n",
    "        YEAR(generate_series) AS year,\n",
    "        MONTH(generate_series) AS month,\n",
    "        DAY(generate_series) AS day\n",
    "    FROM generate_series(DATE '2010-01-01', DATE '2030-12-31', INTERVAL '1 DAY')\n",
    "),\n",
    "sk_date AS (\n",
    "    SELECT\n",
    "        ROW_NUMBER() OVER (ORDER BY date_id) AS date_sk,\n",
    "        *\n",
    "    FROM tempo\n",
    ")\n",
    "\n",
    "SELECT * \n",
    "FROM sk_date\n",
    "\"\"\").to_df()\n",
    "\n",
    "escreve_delta_gold(dim_date, 'dim_date', 'append')"
   ]
  },
  {
   "cell_type": "markdown",
   "metadata": {},
   "source": [
    "### FATOS"
   ]
  },
  {
   "cell_type": "code",
   "execution_count": 9,
   "metadata": {},
   "outputs": [],
   "source": [
    "dim_products = ler_delta_gold('dim_products')\n",
    "dim_customers = ler_delta_gold('dim_customers')\n",
    "dim_staffs = ler_delta_gold('dim_staffs')\n",
    "dim_stores = ler_delta_gold('dim_stores')\n",
    "dim_date = ler_delta_gold('dim_date')"
   ]
  },
  {
   "cell_type": "markdown",
   "metadata": {},
   "source": [
    "#### Fact Sales"
   ]
  },
  {
   "cell_type": "code",
   "execution_count": 10,
   "metadata": {},
   "outputs": [],
   "source": [
    "dtl_orders_sales = ler_delta_silver('order_sales')"
   ]
  },
  {
   "cell_type": "code",
   "execution_count": 11,
   "metadata": {},
   "outputs": [],
   "source": [
    "dtl_gold_fact_sales = ler_delta_gold('fact_sales')"
   ]
  },
  {
   "cell_type": "code",
   "execution_count": 13,
   "metadata": {},
   "outputs": [],
   "source": [
    "fact_sales = con.sql(\"\"\"\n",
    "SELECT \n",
    "    P.product_sk,\n",
    "    C.customer_sk,\n",
    "    ST.staff_sk,\n",
    "    S.store_sk,\n",
    "    D.date_sk,\n",
    "    OS.item_id,\n",
    "    OS.order_id,\n",
    "    OS.order_date,\n",
    "    OS.quantity,\n",
    "    OS.list_price,\n",
    "    OS.discount,\n",
    "    current_date as data_criacao_registro\n",
    "FROM dtl_orders_sales OS\n",
    "LEFT JOIN dim_products P ON OS.product_id = P.product_id\n",
    "LEFT JOIN dim_customers C ON OS.customer_id = C.customer_id\n",
    "LEFT JOIN dim_staffs ST ON OS.staff_id = ST.staff_id\n",
    "LEFT JOIN dim_stores S ON OS.store_id = S.store_id\n",
    "LEFT JOIN dim_date D ON CAST(STRFTIME(OS.order_date, '%Y%m%d') AS INT) = D.date_id\n",
    "WHERE OS.order_date > (SELECT MAX(order_date) FROM dtl_gold_fact_sales)\n",
    "\"\"\").to_df()\n",
    "if len(fact_sales) > 0 :\n",
    "    escreve_delta_gold(fact_sales, 'fact_sales', 'append')"
   ]
  },
  {
   "cell_type": "markdown",
   "metadata": {},
   "source": [
    "#### Fato Stocks"
   ]
  },
  {
   "cell_type": "code",
   "execution_count": 85,
   "metadata": {},
   "outputs": [],
   "source": [
    "stocks_snapchot = ler_delta_silver('stocks_snapshot')"
   ]
  },
  {
   "cell_type": "code",
   "execution_count": 86,
   "metadata": {},
   "outputs": [],
   "source": [
    "dtl_gold_fact_stocks = ler_delta_gold('fato_stocks')"
   ]
  },
  {
   "cell_type": "code",
   "execution_count": 88,
   "metadata": {},
   "outputs": [],
   "source": [
    "fact_stocks = con.sql(\"\"\"\n",
    "    SELECT\n",
    "        P.product_sk,\n",
    "        S.store_sk,\n",
    "        D.date_sk,\n",
    "        SS.quantity,\n",
    "        current_date as data_criacao_registro\n",
    "    FROM stocks_snapchot SS\n",
    "    LEFT JOIN dim_products P ON SS.product_id = P.product_id\n",
    "    LEFT JOIN dim_stores S ON SS.store_id = S.store_id\n",
    "    LEFT JOIN dim_date D ON cast(strftime(SS.dt_stock, '%Y%m%d') as int) = D.date_id\n",
    "    WHERE SS.dt_stock > (\n",
    "        SELECT\n",
    "            MAX(D.date)\n",
    "        FROM dtl_gold_fact_stocks FS\n",
    "        LEFT JOIN dim_date D ON FS.date_SK = D.date_SK\n",
    "    )\n",
    "\"\"\").to_df()\n",
    "\n",
    "if len(fact_stocks) > 0 :\n",
    "    escreve_delta_gold(fact_stocks, 'fato_stocks', 'append')"
   ]
  },
  {
   "cell_type": "markdown",
   "metadata": {},
   "source": [
    "## Fecha conexões"
   ]
  },
  {
   "cell_type": "code",
   "execution_count": 92,
   "metadata": {},
   "outputs": [],
   "source": [
    "con.close()"
   ]
  }
 ],
 "metadata": {
  "kernelspec": {
   "display_name": "cursoazure",
   "language": "python",
   "name": "python3"
  },
  "language_info": {
   "codemirror_mode": {
    "name": "ipython",
    "version": 3
   },
   "file_extension": ".py",
   "mimetype": "text/x-python",
   "name": "python",
   "nbconvert_exporter": "python",
   "pygments_lexer": "ipython3",
   "version": "3.11.7"
  }
 },
 "nbformat": 4,
 "nbformat_minor": 2
}
